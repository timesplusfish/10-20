{
  "nbformat": 4,
  "nbformat_minor": 0,
  "metadata": {
    "colab": {
      "provenance": []
    },
    "kernelspec": {
      "name": "python3",
      "display_name": "Python 3"
    },
    "language_info": {
      "name": "python"
    }
  },
  "cells": [
    {
      "cell_type": "code",
      "source": [
        "num_str=input(\"請輸入一個數字:\")\n",
        "num=int(num_str)\n",
        "for i in range(1,num+1):\n",
        "  for j in range(1,num+1):\n",
        "    product=i*j\n",
        "    print(f\"{i}*{j}={product}\")"
      ],
      "metadata": {
        "id": "31jajlDRONGm",
        "outputId": "7c7612bb-e48f-4ade-f975-9def8719f5fa",
        "colab": {
          "base_uri": "https://localhost:8080/"
        }
      },
      "execution_count": null,
      "outputs": [
        {
          "output_type": "stream",
          "name": "stdout",
          "text": [
            "請輸入一個數字:6\n",
            "1*1=1\n",
            "1*2=2\n",
            "1*3=3\n",
            "1*4=4\n",
            "1*5=5\n",
            "1*6=6\n",
            "2*1=2\n",
            "2*2=4\n",
            "2*3=6\n",
            "2*4=8\n",
            "2*5=10\n",
            "2*6=12\n",
            "3*1=3\n",
            "3*2=6\n",
            "3*3=9\n",
            "3*4=12\n",
            "3*5=15\n",
            "3*6=18\n",
            "4*1=4\n",
            "4*2=8\n",
            "4*3=12\n",
            "4*4=16\n",
            "4*5=20\n",
            "4*6=24\n",
            "5*1=5\n",
            "5*2=10\n",
            "5*3=15\n",
            "5*4=20\n",
            "5*5=25\n",
            "5*6=30\n",
            "6*1=6\n",
            "6*2=12\n",
            "6*3=18\n",
            "6*4=24\n",
            "6*5=30\n",
            "6*6=36\n"
          ]
        }
      ]
    },
    {
      "cell_type": "code",
      "execution_count": null,
      "metadata": {
        "colab": {
          "base_uri": "https://localhost:8080/"
        },
        "id": "9IUGrUdNFtC1",
        "outputId": "66416930-272d-4b95-d576-e33e210fe4ba"
      },
      "outputs": [
        {
          "output_type": "stream",
          "name": "stdout",
          "text": [
            "歡迎參加猜數字遊戲!\n",
            "猜猜看?50\n",
            "太低囉!\n",
            "猜猜看?60\n",
            "太低囉!\n",
            "猜猜看?70\n",
            "太高囉!\n",
            "猜猜看?655\n",
            "太高囉!\n",
            "猜猜看?65\n",
            "太高囉!\n",
            "猜猜看?61\n",
            "太棒了!猜對啦!答案就是61\n",
            "猜猜遊戲結束!\n"
          ]
        }
      ],
      "source": [
        "import random\n",
        "target_number=random.randint(1,100)\n",
        "print(\"歡迎參加猜數字遊戲!\")\n",
        "guess=int(input(\"猜猜看?\"))\n",
        "while guess!=target_number:\n",
        "  if guess>target_number:\n",
        "    print(\"太高囉!\")\n",
        "    guess=int(input(\"猜猜看?\"))\n",
        "  else:\n",
        "    print(\"太低囉!\")\n",
        "    guess=int(input(\"猜猜看?\"))\n",
        "\n",
        "print(f\"太棒了!猜對啦!答案就是{target_number}\")\n",
        "print(\"猜猜遊戲結束!\")"
      ]
    }
  ]
}